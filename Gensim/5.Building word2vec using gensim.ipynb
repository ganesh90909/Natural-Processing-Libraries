{
 "cells": [
  {
   "cell_type": "markdown",
   "metadata": {},
   "source": [
    "A word embedding model is a model that can provide numerical vectors for a given word. Using the Gensim’s downloader API, we can download pre-built word embedding models like word2vec, fasttext, GloVe and ConceptNet. These are built on large corpuses of commonly occurring text data such as wikipedia, google news etc.\n",
    "\n",
    "However, if we are working in a specialized niche such as technical documents, we may not be able to get word embeddings for all the words. So, in such cases its desirable to train our own model."
   ]
  },
  {
   "cell_type": "code",
   "execution_count": 1,
   "metadata": {},
   "outputs": [],
   "source": [
    "import gensim\n",
    "from gensim.models.word2vec import Word2Vec\n",
    "import gensim.downloader as api\n",
    "from multiprocessing import cpu_count"
   ]
  },
  {
   "cell_type": "code",
   "execution_count": 15,
   "metadata": {},
   "outputs": [],
   "source": [
    "import warnings\n",
    "warnings.simplefilter(action='ignore')"
   ]
  },
  {
   "cell_type": "code",
   "execution_count": 3,
   "metadata": {},
   "outputs": [],
   "source": [
    "dataset=api.load('text8')"
   ]
  },
  {
   "cell_type": "code",
   "execution_count": 4,
   "metadata": {},
   "outputs": [],
   "source": [
    "data=[wd for wd in dataset]"
   ]
  },
  {
   "cell_type": "code",
   "execution_count": 8,
   "metadata": {},
   "outputs": [
    {
     "data": {
      "text/plain": [
       "['anarchism', 'originated', 'as', 'a', 'term']"
      ]
     },
     "execution_count": 8,
     "metadata": {},
     "output_type": "execute_result"
    }
   ],
   "source": [
    "data[0][:5]"
   ]
  },
  {
   "cell_type": "code",
   "execution_count": 9,
   "metadata": {},
   "outputs": [],
   "source": [
    "#splitting the data into 2 parts,Later part will be used to update the model.\n",
    "data_part1=data[:1000]\n",
    "data_part2=data[1000:]"
   ]
  },
  {
   "cell_type": "code",
   "execution_count": 10,
   "metadata": {},
   "outputs": [],
   "source": [
    "#Train te word2vec model.The default length of vectors in 100\n",
    "model=Word2Vec(data_part1,min_count=0,workers=cpu_count())"
   ]
  },
  {
   "cell_type": "code",
   "execution_count": 16,
   "metadata": {},
   "outputs": [
    {
     "data": {
      "text/plain": [
       "array([ 0.5913536 , -0.4669403 ,  0.2300151 , -0.0326189 ,  0.82428384,\n",
       "        1.0622251 ,  0.41448697,  0.3202088 , -0.4964485 ,  1.2178779 ,\n",
       "        0.36397702, -0.32891572,  0.09694634,  0.5569295 , -1.1447318 ,\n",
       "        0.592945  , -0.7436546 , -0.3540702 , -0.18498786, -0.4505671 ,\n",
       "        0.26177293,  0.59536797, -0.302518  , -1.5558119 ,  0.18977602,\n",
       "       -0.57413954, -1.725028  , -1.4557137 ,  0.10832078, -0.59584504,\n",
       "        0.764049  , -0.40850034, -0.29667923, -0.90620416, -0.8371268 ,\n",
       "       -0.8163875 ,  0.5548657 , -0.9921423 ,  0.65224427,  0.89225054,\n",
       "       -0.64238834,  0.0553678 ,  0.23970193, -0.47748867,  0.2895233 ,\n",
       "       -0.6060436 , -0.54446214, -0.28231296,  0.3759572 ,  0.4926797 ,\n",
       "        0.691612  , -0.31964317,  1.7561483 , -0.5470852 ,  0.3934648 ,\n",
       "        0.05594723, -0.85763055, -0.43768674, -0.72433746,  0.6842822 ,\n",
       "       -0.94029146, -0.11017247, -0.5186951 ,  0.14269929, -0.83399725,\n",
       "       -0.2777898 , -0.06652811, -0.9678803 , -0.4636435 ,  0.66119146,\n",
       "       -0.45777807,  0.29610753, -1.023884  , -0.6146209 ,  0.19036482,\n",
       "       -1.1031002 , -0.06151842,  1.6276063 , -0.69104904, -0.6111454 ,\n",
       "       -0.41535264,  0.6207802 ,  0.35577422, -0.3561312 , -1.5542537 ,\n",
       "        1.1474881 ,  0.01265879, -0.54070145, -0.66748345,  0.15891826,\n",
       "       -0.6995064 , -0.15983438,  0.1463937 ,  0.09196119,  0.07009831,\n",
       "        0.21401735,  0.5917841 ,  1.3960485 ,  0.42273855,  0.29170036],\n",
       "      dtype=float32)"
      ]
     },
     "execution_count": 16,
     "metadata": {},
     "output_type": "execute_result"
    }
   ],
   "source": [
    "\n",
    "model['topic']"
   ]
  },
  {
   "cell_type": "code",
   "execution_count": 18,
   "metadata": {},
   "outputs": [
    {
     "data": {
      "text/plain": [
       "[('discussion', 0.7643040418624878),\n",
       " ('consensus', 0.7583703994750977),\n",
       " ('interpretation', 0.7362848520278931),\n",
       " ('speculation', 0.7311907410621643),\n",
       " ('discussions', 0.7196162939071655),\n",
       " ('discourse', 0.7167651653289795),\n",
       " ('explanation', 0.7145833969116211),\n",
       " ('opinion', 0.7082844972610474),\n",
       " ('debate', 0.701775074005127),\n",
       " ('viewpoint', 0.6989355683326721)]"
      ]
     },
     "execution_count": 18,
     "metadata": {},
     "output_type": "execute_result"
    }
   ],
   "source": [
    "model.most_similar('topic')"
   ]
  },
  {
   "cell_type": "markdown",
   "metadata": {},
   "source": [
    "#### save the model"
   ]
  },
  {
   "cell_type": "code",
   "execution_count": null,
   "metadata": {},
   "outputs": [],
   "source": [
    "#model.save('newmodel')"
   ]
  },
  {
   "cell_type": "markdown",
   "metadata": {},
   "source": [
    "#### load the model\n"
   ]
  },
  {
   "cell_type": "code",
   "execution_count": null,
   "metadata": {},
   "outputs": [],
   "source": [
    "#model=Word2Vec.load('newmodel')"
   ]
  },
  {
   "cell_type": "markdown",
   "metadata": {},
   "source": [
    "## Update existing word2vec model"
   ]
  },
  {
   "cell_type": "markdown",
   "metadata": {},
   "source": [
    "However, when a new dataset comes, you want to update the model so as to account for new words.\n",
    "\n",
    "On an existing Word2Vec model, call the **build_vocab()** on the new datset and then call the **train()** method. build_vocab() is called first because the model has to be apprised of what new words to expect in the incoming corpus."
   ]
  },
  {
   "cell_type": "code",
   "execution_count": 19,
   "metadata": {},
   "outputs": [],
   "source": [
    "model.build_vocab(data_part2,update=True)"
   ]
  },
  {
   "cell_type": "code",
   "execution_count": 20,
   "metadata": {},
   "outputs": [
    {
     "data": {
      "text/plain": [
       "(26274353, 35026035)"
      ]
     },
     "execution_count": 20,
     "metadata": {},
     "output_type": "execute_result"
    }
   ],
   "source": [
    "model.train(data_part2,total_examples=model.corpus_count,epochs=model.iter)"
   ]
  },
  {
   "cell_type": "code",
   "execution_count": 21,
   "metadata": {},
   "outputs": [
    {
     "data": {
      "text/plain": [
       "array([ 9.1000140e-01, -5.9464908e-01,  7.8773774e-02,  1.8042450e-01,\n",
       "        1.0738237e+00,  1.0348794e+00,  4.9057728e-01,  6.9823545e-01,\n",
       "       -7.2200233e-01,  8.6618423e-01, -2.3714249e-01, -1.1065097e+00,\n",
       "       -4.6098250e-01,  8.5288048e-02, -1.1391873e+00,  8.6345319e-03,\n",
       "       -1.4106318e+00, -9.1770929e-01, -1.6538605e-01,  1.7640872e-01,\n",
       "        1.5542947e-01,  4.2729264e-01, -6.2255305e-01, -2.2827628e+00,\n",
       "       -7.1614474e-02, -7.8251725e-01, -2.4768395e+00, -2.0002849e+00,\n",
       "        4.1942349e-01, -5.5499250e-01,  3.4081087e-01, -1.1283801e+00,\n",
       "        9.8258637e-02, -2.0512664e+00, -1.2708035e+00, -1.2356541e+00,\n",
       "        1.0830261e+00, -6.1893833e-01,  1.0266517e+00,  1.3877740e+00,\n",
       "       -4.4582039e-01, -6.7985398e-03,  5.3191161e-01, -6.1662298e-01,\n",
       "        7.5019562e-01, -2.1223310e-01, -1.2417248e+00, -1.9535630e-03,\n",
       "        3.3657765e-01,  8.5073608e-01,  1.2846785e+00, -3.8802296e-01,\n",
       "        1.4071589e+00, -1.0248456e+00,  2.7813846e-01,  8.4242068e-02,\n",
       "       -1.3567336e+00, -1.0194217e+00, -8.0131233e-01,  9.1558039e-02,\n",
       "       -1.7122127e+00,  2.1605568e-01, -1.4643239e-02,  9.1225737e-01,\n",
       "       -5.5303341e-01, -3.5815805e-02,  4.3108147e-01, -6.0502297e-01,\n",
       "        1.7473182e-01,  3.4779149e-01, -2.6849979e-01,  5.4779863e-01,\n",
       "       -1.1032019e+00, -9.7333622e-01,  2.3548804e-01, -1.5937804e+00,\n",
       "       -1.1387534e-01,  1.8806469e+00, -1.0694534e+00, -8.6941826e-01,\n",
       "       -1.9892377e-01,  4.8696595e-01,  2.4548648e-03, -7.4619734e-01,\n",
       "       -1.6768539e+00,  1.1120350e+00,  2.8129110e-01, -9.2894268e-01,\n",
       "       -7.3844421e-01,  5.6214774e-01, -1.9062969e-01,  6.7345742e-03,\n",
       "        9.3004042e-01, -7.6593056e-02, -1.0557392e-01,  7.2328252e-01,\n",
       "        7.5034148e-01,  2.1076186e+00, -5.8483236e-02,  6.0293186e-01],\n",
       "      dtype=float32)"
      ]
     },
     "execution_count": 21,
     "metadata": {},
     "output_type": "execute_result"
    }
   ],
   "source": [
    "model['topic']"
   ]
  },
  {
   "cell_type": "code",
   "execution_count": 22,
   "metadata": {},
   "outputs": [
    {
     "data": {
      "text/plain": [
       "100"
      ]
     },
     "execution_count": 22,
     "metadata": {},
     "output_type": "execute_result"
    }
   ],
   "source": [
    "len(model['topic'])"
   ]
  },
  {
   "cell_type": "code",
   "execution_count": null,
   "metadata": {},
   "outputs": [],
   "source": []
  },
  {
   "cell_type": "code",
   "execution_count": null,
   "metadata": {},
   "outputs": [],
   "source": []
  },
  {
   "cell_type": "code",
   "execution_count": null,
   "metadata": {},
   "outputs": [],
   "source": []
  },
  {
   "cell_type": "code",
   "execution_count": null,
   "metadata": {},
   "outputs": [],
   "source": []
  },
  {
   "cell_type": "code",
   "execution_count": null,
   "metadata": {},
   "outputs": [],
   "source": []
  },
  {
   "cell_type": "code",
   "execution_count": null,
   "metadata": {},
   "outputs": [],
   "source": []
  }
 ],
 "metadata": {
  "kernelspec": {
   "display_name": "Python 3",
   "language": "python",
   "name": "python3"
  },
  "language_info": {
   "codemirror_mode": {
    "name": "ipython",
    "version": 3
   },
   "file_extension": ".py",
   "mimetype": "text/x-python",
   "name": "python",
   "nbconvert_exporter": "python",
   "pygments_lexer": "ipython3",
   "version": "3.7.3"
  }
 },
 "nbformat": 4,
 "nbformat_minor": 2
}
