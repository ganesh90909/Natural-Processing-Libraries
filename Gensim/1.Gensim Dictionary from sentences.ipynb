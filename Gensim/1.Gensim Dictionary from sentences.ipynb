{
 "cells": [
  {
   "cell_type": "markdown",
   "metadata": {},
   "source": [
    "# Creation of dictionary from list of sentences"
   ]
  },
  {
   "cell_type": "markdown",
   "metadata": {},
   "source": [
    "'Token' is a word from a list of words or sentences.So,we we create dictionary for these tokens with a unique id.This id is used for creation of bag of words model for text processing in natural language processing problems. "
   ]
  },
  {
   "cell_type": "code",
   "execution_count": 1,
   "metadata": {},
   "outputs": [],
   "source": [
    "import gensim\n",
    "from gensim import corpora\n",
    "from pprint import pprint\n"
   ]
  },
  {
   "cell_type": "code",
   "execution_count": 2,
   "metadata": {},
   "outputs": [],
   "source": [
    "sentences=['I love playing football',\n",
    "           'I love to watch Messi playing football',\n",
    "           'Kevin debruyne is the best midfielder in the world']"
   ]
  },
  {
   "cell_type": "code",
   "execution_count": 3,
   "metadata": {},
   "outputs": [
    {
     "data": {
      "text/plain": [
       "[['I', 'love', 'playing', 'football'],\n",
       " ['I', 'love', 'to', 'watch', 'Messi', 'playing', 'football'],\n",
       " ['Kevin',\n",
       "  'debruyne',\n",
       "  'is',\n",
       "  'the',\n",
       "  'best',\n",
       "  'midfielder',\n",
       "  'in',\n",
       "  'the',\n",
       "  'world']]"
      ]
     },
     "execution_count": 3,
     "metadata": {},
     "output_type": "execute_result"
    }
   ],
   "source": [
    "texts=[[text for text in doc.split()] for doc in sentences]\n",
    "texts"
   ]
  },
  {
   "cell_type": "code",
   "execution_count": 4,
   "metadata": {},
   "outputs": [],
   "source": [
    "mydict=corpora.Dictionary(texts)"
   ]
  },
  {
   "cell_type": "code",
   "execution_count": 9,
   "metadata": {},
   "outputs": [
    {
     "data": {
      "text/plain": [
       "gensim.corpora.dictionary.Dictionary"
      ]
     },
     "execution_count": 9,
     "metadata": {},
     "output_type": "execute_result"
    }
   ],
   "source": [
    "type(mydict)"
   ]
  },
  {
   "cell_type": "code",
   "execution_count": 10,
   "metadata": {},
   "outputs": [
    {
     "name": "stdout",
     "output_type": "stream",
     "text": [
      "Dictionary(15 unique tokens: ['I', 'football', 'love', 'playing', 'Messi']...)\n"
     ]
    }
   ],
   "source": [
    "print(mydict)"
   ]
  },
  {
   "cell_type": "code",
   "execution_count": 6,
   "metadata": {},
   "outputs": [
    {
     "data": {
      "text/plain": [
       "{'I': 0,\n",
       " 'football': 1,\n",
       " 'love': 2,\n",
       " 'playing': 3,\n",
       " 'Messi': 4,\n",
       " 'to': 5,\n",
       " 'watch': 6,\n",
       " 'Kevin': 7,\n",
       " 'best': 8,\n",
       " 'debruyne': 9,\n",
       " 'in': 10,\n",
       " 'is': 11,\n",
       " 'midfielder': 12,\n",
       " 'the': 13,\n",
       " 'world': 14}"
      ]
     },
     "execution_count": 6,
     "metadata": {},
     "output_type": "execute_result"
    }
   ],
   "source": [
    "#to get ids for each token\n",
    "mydict.token2id"
   ]
  },
  {
   "cell_type": "code",
   "execution_count": 7,
   "metadata": {},
   "outputs": [],
   "source": [
    "sentences1=[\"Ronnie O'Sullivan is the best snooker player in the world\",\n",
    "           'Ronnie is nicknamed as The Rocket',\n",
    "           'He is also nicknamed as The Magician']"
   ]
  },
  {
   "cell_type": "code",
   "execution_count": 11,
   "metadata": {},
   "outputs": [],
   "source": [
    "texts2=[[text for text in doc.split()] for doc in sentences1]"
   ]
  },
  {
   "cell_type": "code",
   "execution_count": 12,
   "metadata": {},
   "outputs": [],
   "source": [
    "#we can add the sentences to the existing dictionary\n",
    "mydict.add_documents(texts2)"
   ]
  },
  {
   "cell_type": "code",
   "execution_count": 13,
   "metadata": {},
   "outputs": [
    {
     "name": "stdout",
     "output_type": "stream",
     "text": [
      "Dictionary(26 unique tokens: ['I', 'football', 'love', 'playing', 'Messi']...)\n"
     ]
    }
   ],
   "source": [
    "print(mydict)"
   ]
  },
  {
   "cell_type": "code",
   "execution_count": 14,
   "metadata": {},
   "outputs": [
    {
     "data": {
      "text/plain": [
       "{'I': 0,\n",
       " 'football': 1,\n",
       " 'love': 2,\n",
       " 'playing': 3,\n",
       " 'Messi': 4,\n",
       " 'to': 5,\n",
       " 'watch': 6,\n",
       " 'Kevin': 7,\n",
       " 'best': 8,\n",
       " 'debruyne': 9,\n",
       " 'in': 10,\n",
       " 'is': 11,\n",
       " 'midfielder': 12,\n",
       " 'the': 13,\n",
       " 'world': 14,\n",
       " \"O'Sullivan\": 15,\n",
       " 'Ronnie': 16,\n",
       " 'player': 17,\n",
       " 'snooker': 18,\n",
       " 'Rocket': 19,\n",
       " 'The': 20,\n",
       " 'as': 21,\n",
       " 'nicknamed': 22,\n",
       " 'He': 23,\n",
       " 'Magician': 24,\n",
       " 'also': 25}"
      ]
     },
     "execution_count": 14,
     "metadata": {},
     "output_type": "execute_result"
    }
   ],
   "source": [
    "mydict.token2id"
   ]
  },
  {
   "cell_type": "code",
   "execution_count": null,
   "metadata": {},
   "outputs": [],
   "source": []
  },
  {
   "cell_type": "code",
   "execution_count": null,
   "metadata": {},
   "outputs": [],
   "source": []
  },
  {
   "cell_type": "code",
   "execution_count": null,
   "metadata": {},
   "outputs": [],
   "source": []
  },
  {
   "cell_type": "code",
   "execution_count": null,
   "metadata": {},
   "outputs": [],
   "source": []
  }
 ],
 "metadata": {
  "kernelspec": {
   "display_name": "Python 3",
   "language": "python",
   "name": "python3"
  },
  "language_info": {
   "codemirror_mode": {
    "name": "ipython",
    "version": 3
   },
   "file_extension": ".py",
   "mimetype": "text/x-python",
   "name": "python",
   "nbconvert_exporter": "python",
   "pygments_lexer": "ipython3",
   "version": "3.7.3"
  }
 },
 "nbformat": 4,
 "nbformat_minor": 2
}
