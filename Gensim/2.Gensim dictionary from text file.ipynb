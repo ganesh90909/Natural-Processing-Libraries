{
 "cells": [
  {
   "cell_type": "markdown",
   "metadata": {},
   "source": [
    "# Creating dictionary from text file"
   ]
  },
  {
   "cell_type": "markdown",
   "metadata": {},
   "source": [
    "The below example reads a file line-by-line and uses gensim’s **simple_preprocess** to process one line of the file at a time.\n",
    "\n",
    "The advantage here is it let’s you read an entire text file without loading the file in memory all at once."
   ]
  },
  {
   "cell_type": "code",
   "execution_count": 13,
   "metadata": {},
   "outputs": [],
   "source": [
    "import gensim\n",
    "from gensim import corpora\n",
    "import os"
   ]
  },
  {
   "cell_type": "code",
   "execution_count": 2,
   "metadata": {},
   "outputs": [],
   "source": [
    "from gensim.utils import simple_preprocess\n",
    "from smart_open import smart_open"
   ]
  },
  {
   "cell_type": "code",
   "execution_count": 6,
   "metadata": {},
   "outputs": [],
   "source": [
    "#deacc:Remove accent marks from tokens using :func:`~gensim.utils.deaccent\n",
    "mydict=corpora.Dictionary(simple_preprocess(line,deacc=True) for line in open('Textfiles/text1.txt'))"
   ]
  },
  {
   "cell_type": "code",
   "execution_count": 7,
   "metadata": {},
   "outputs": [
    {
     "data": {
      "text/plain": [
       "{'all': 0,\n",
       " 'be': 1,\n",
       " 'cannot': 2,\n",
       " 'else': 3,\n",
       " 'everyone': 4,\n",
       " 'genius': 5,\n",
       " 'god': 6,\n",
       " 'is': 7,\n",
       " 'language': 8,\n",
       " 'must': 9,\n",
       " 'of': 10,\n",
       " 'one': 11,\n",
       " 'poor': 12,\n",
       " 'silent': 13,\n",
       " 'speak': 14,\n",
       " 'the': 15,\n",
       " 'thereof': 16,\n",
       " 'translation': 17,\n",
       " 'whereof': 18}"
      ]
     },
     "execution_count": 7,
     "metadata": {},
     "output_type": "execute_result"
    }
   ],
   "source": [
    "mydict.token2id"
   ]
  },
  {
   "cell_type": "markdown",
   "metadata": {},
   "source": [
    "# Creating dictinary from multiple text files"
   ]
  },
  {
   "cell_type": "markdown",
   "metadata": {},
   "source": [
    "Assuming you have all the text files in the same directory, you need to define a class with an __iter__ method. The __iter__() method should iterate through all the files in a given directory and yield the processed list of word tokens."
   ]
  },
  {
   "cell_type": "code",
   "execution_count": 10,
   "metadata": {},
   "outputs": [],
   "source": [
    "class Readtxtfiles(object):\n",
    "    def __init__(self,dirname):\n",
    "        self.dirname=dirname\n",
    "    \n",
    "    def __iter__(self):\n",
    "        for fname in os.listdir(self.dirname):\n",
    "            for line in open(os.path.join(self.dirname,fname)):\n",
    "                yield simple_preprocess(line)\n",
    "        "
   ]
  },
  {
   "cell_type": "code",
   "execution_count": 21,
   "metadata": {},
   "outputs": [],
   "source": [
    "path='Textfiles/'"
   ]
  },
  {
   "cell_type": "code",
   "execution_count": 22,
   "metadata": {},
   "outputs": [],
   "source": [
    "mydict=corpora.Dictionary(Readtxtfiles(path))"
   ]
  },
  {
   "cell_type": "code",
   "execution_count": 23,
   "metadata": {},
   "outputs": [
    {
     "name": "stdout",
     "output_type": "stream",
     "text": [
      "Dictionary(50 unique tokens: ['all', 'be', 'cannot', 'else', 'everyone']...)\n"
     ]
    }
   ],
   "source": [
    "print(mydict)"
   ]
  },
  {
   "cell_type": "code",
   "execution_count": 25,
   "metadata": {},
   "outputs": [
    {
     "data": {
      "text/plain": [
       "{'all': 0,\n",
       " 'be': 1,\n",
       " 'cannot': 2,\n",
       " 'else': 3,\n",
       " 'everyone': 4,\n",
       " 'genius': 5,\n",
       " 'god': 6,\n",
       " 'is': 7,\n",
       " 'language': 8,\n",
       " 'must': 9,\n",
       " 'of': 10,\n",
       " 'one': 11,\n",
       " 'poor': 12,\n",
       " 'silent': 13,\n",
       " 'speak': 14,\n",
       " 'the': 15,\n",
       " 'thereof': 16,\n",
       " 'translation': 17,\n",
       " 'whereof': 18,\n",
       " 'and': 19,\n",
       " 'bite': 20,\n",
       " 'change': 21,\n",
       " 'dance': 22,\n",
       " 'define': 23,\n",
       " 'don': 24,\n",
       " 'for': 25,\n",
       " 'in': 26,\n",
       " 'into': 27,\n",
       " 'it': 28,\n",
       " 'join': 29,\n",
       " 'like': 30,\n",
       " 'look': 31,\n",
       " 'make': 32,\n",
       " 'move': 33,\n",
       " 'only': 34,\n",
       " 'out': 35,\n",
       " 'own': 36,\n",
       " 'plunge': 37,\n",
       " 'sense': 38,\n",
       " 'sky': 39,\n",
       " 'something': 40,\n",
       " 'teeth': 41,\n",
       " 'there': 42,\n",
       " 'to': 43,\n",
       " 'trying': 44,\n",
       " 'way': 45,\n",
       " 'with': 46,\n",
       " 'you': 47,\n",
       " 'your': 48,\n",
       " 'yourself': 49}"
      ]
     },
     "execution_count": 25,
     "metadata": {},
     "output_type": "execute_result"
    }
   ],
   "source": [
    "mydict.token2id"
   ]
  },
  {
   "cell_type": "code",
   "execution_count": null,
   "metadata": {},
   "outputs": [],
   "source": []
  },
  {
   "cell_type": "code",
   "execution_count": null,
   "metadata": {},
   "outputs": [],
   "source": []
  },
  {
   "cell_type": "code",
   "execution_count": null,
   "metadata": {},
   "outputs": [],
   "source": []
  }
 ],
 "metadata": {
  "kernelspec": {
   "display_name": "Python 3",
   "language": "python",
   "name": "python3"
  },
  "language_info": {
   "codemirror_mode": {
    "name": "ipython",
    "version": 3
   },
   "file_extension": ".py",
   "mimetype": "text/x-python",
   "name": "python",
   "nbconvert_exporter": "python",
   "pygments_lexer": "ipython3",
   "version": "3.7.3"
  }
 },
 "nbformat": 4,
 "nbformat_minor": 2
}
